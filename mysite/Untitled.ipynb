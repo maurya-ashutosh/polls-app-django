{
 "cells": [
  {
   "cell_type": "code",
   "execution_count": 1,
   "id": "231778ab",
   "metadata": {},
   "outputs": [
    {
     "name": "stdout",
     "output_type": "stream",
     "text": [
      "Collecting pymavlink\n",
      "  Downloading pymavlink-2.4.39-py3-none-any.whl (11.4 MB)\n",
      "Requirement already satisfied: lxml in c:\\users\\mmaur\\anaconda3\\lib\\site-packages (from pymavlink) (4.8.0)\n",
      "Requirement already satisfied: future in c:\\users\\mmaur\\anaconda3\\lib\\site-packages (from pymavlink) (0.18.2)\n",
      "Installing collected packages: pymavlink\n",
      "Successfully installed pymavlink-2.4.39\n"
     ]
    },
    {
     "name": "stderr",
     "output_type": "stream",
     "text": [
      "WARNING: Ignoring invalid distribution -orch (c:\\users\\mmaur\\anaconda3\\lib\\site-packages)\n",
      "WARNING: Ignoring invalid distribution -orch (c:\\users\\mmaur\\anaconda3\\lib\\site-packages)\n",
      "WARNING: Ignoring invalid distribution -orch (c:\\users\\mmaur\\anaconda3\\lib\\site-packages)\n",
      "WARNING: Ignoring invalid distribution -orch (c:\\users\\mmaur\\anaconda3\\lib\\site-packages)\n",
      "WARNING: Ignoring invalid distribution -orch (c:\\users\\mmaur\\anaconda3\\lib\\site-packages)\n",
      "WARNING: Ignoring invalid distribution -orch (c:\\users\\mmaur\\anaconda3\\lib\\site-packages)\n",
      "WARNING: Ignoring invalid distribution -orch (c:\\users\\mmaur\\anaconda3\\lib\\site-packages)\n"
     ]
    }
   ],
   "source": [
    "!pip install pymavlink"
   ]
  },
  {
   "cell_type": "code",
   "execution_count": 2,
   "id": "572a891d",
   "metadata": {},
   "outputs": [
    {
     "ename": "KeyboardInterrupt",
     "evalue": "",
     "output_type": "error",
     "traceback": [
      "\u001b[1;31m---------------------------------------------------------------------------\u001b[0m",
      "\u001b[1;31mKeyboardInterrupt\u001b[0m                         Traceback (most recent call last)",
      "Input \u001b[1;32mIn [2]\u001b[0m, in \u001b[0;36m<cell line: 8>\u001b[1;34m()\u001b[0m\n\u001b[0;32m      4\u001b[0m the_connection \u001b[38;5;241m=\u001b[39m mavutil\u001b[38;5;241m.\u001b[39mmavlink_connection(\u001b[38;5;124m'\u001b[39m\u001b[38;5;124mudpin:localhost:14550\u001b[39m\u001b[38;5;124m'\u001b[39m)\n\u001b[0;32m      6\u001b[0m \u001b[38;5;66;03m# Wait for the first heartbeat\u001b[39;00m\n\u001b[0;32m      7\u001b[0m \u001b[38;5;66;03m#   This sets the system and component ID of remote system for the link\u001b[39;00m\n\u001b[1;32m----> 8\u001b[0m \u001b[43mthe_connection\u001b[49m\u001b[38;5;241;43m.\u001b[39;49m\u001b[43mwait_heartbeat\u001b[49m\u001b[43m(\u001b[49m\u001b[43m)\u001b[49m\n\u001b[0;32m      9\u001b[0m \u001b[38;5;28mprint\u001b[39m(\u001b[38;5;124m\"\u001b[39m\u001b[38;5;124mHeartbeat from system (system \u001b[39m\u001b[38;5;132;01m%u\u001b[39;00m\u001b[38;5;124m component \u001b[39m\u001b[38;5;132;01m%u\u001b[39;00m\u001b[38;5;124m)\u001b[39m\u001b[38;5;124m\"\u001b[39m \u001b[38;5;241m%\u001b[39m\n\u001b[0;32m     10\u001b[0m (the_connection\u001b[38;5;241m.\u001b[39mtarget_system, the_connection\u001b[38;5;241m.\u001b[39mtarget_component))\n",
      "File \u001b[1;32m~\\anaconda3\\lib\\site-packages\\pymavlink\\mavutil.py:557\u001b[0m, in \u001b[0;36mmavfile.wait_heartbeat\u001b[1;34m(self, blocking, timeout)\u001b[0m\n\u001b[0;32m    555\u001b[0m \u001b[38;5;28;01mdef\u001b[39;00m \u001b[38;5;21mwait_heartbeat\u001b[39m(\u001b[38;5;28mself\u001b[39m, blocking\u001b[38;5;241m=\u001b[39m\u001b[38;5;28;01mTrue\u001b[39;00m, timeout\u001b[38;5;241m=\u001b[39m\u001b[38;5;28;01mNone\u001b[39;00m):\n\u001b[0;32m    556\u001b[0m     \u001b[38;5;124;03m'''wait for a heartbeat so we know the target system IDs'''\u001b[39;00m\n\u001b[1;32m--> 557\u001b[0m     \u001b[38;5;28;01mreturn\u001b[39;00m \u001b[38;5;28;43mself\u001b[39;49m\u001b[38;5;241;43m.\u001b[39;49m\u001b[43mrecv_match\u001b[49m\u001b[43m(\u001b[49m\u001b[38;5;28;43mtype\u001b[39;49m\u001b[38;5;241;43m=\u001b[39;49m\u001b[38;5;124;43m'\u001b[39;49m\u001b[38;5;124;43mHEARTBEAT\u001b[39;49m\u001b[38;5;124;43m'\u001b[39;49m\u001b[43m,\u001b[49m\u001b[43m \u001b[49m\u001b[43mblocking\u001b[49m\u001b[38;5;241;43m=\u001b[39;49m\u001b[43mblocking\u001b[49m\u001b[43m,\u001b[49m\u001b[43m \u001b[49m\u001b[43mtimeout\u001b[49m\u001b[38;5;241;43m=\u001b[39;49m\u001b[43mtimeout\u001b[49m\u001b[43m)\u001b[49m\n",
      "File \u001b[1;32m~\\anaconda3\\lib\\site-packages\\pymavlink\\mavutil.py:524\u001b[0m, in \u001b[0;36mmavfile.recv_match\u001b[1;34m(self, condition, type, blocking, timeout)\u001b[0m\n\u001b[0;32m    522\u001b[0m     hook(\u001b[38;5;28mself\u001b[39m)\n\u001b[0;32m    523\u001b[0m \u001b[38;5;28;01mif\u001b[39;00m timeout \u001b[38;5;129;01mis\u001b[39;00m \u001b[38;5;28;01mNone\u001b[39;00m:\n\u001b[1;32m--> 524\u001b[0m     \u001b[38;5;28;43mself\u001b[39;49m\u001b[38;5;241;43m.\u001b[39;49m\u001b[43mselect\u001b[49m\u001b[43m(\u001b[49m\u001b[38;5;241;43m0.05\u001b[39;49m\u001b[43m)\u001b[49m\n\u001b[0;32m    525\u001b[0m \u001b[38;5;28;01melse\u001b[39;00m:\n\u001b[0;32m    526\u001b[0m     \u001b[38;5;28mself\u001b[39m\u001b[38;5;241m.\u001b[39mselect(timeout\u001b[38;5;241m/\u001b[39m\u001b[38;5;241m2\u001b[39m)\n",
      "File \u001b[1;32m~\\anaconda3\\lib\\site-packages\\pymavlink\\mavutil.py:338\u001b[0m, in \u001b[0;36mmavfile.select\u001b[1;34m(self, timeout)\u001b[0m\n\u001b[0;32m    336\u001b[0m     \u001b[38;5;28;01mreturn\u001b[39;00m \u001b[38;5;28;01mTrue\u001b[39;00m\n\u001b[0;32m    337\u001b[0m \u001b[38;5;28;01mtry\u001b[39;00m:\n\u001b[1;32m--> 338\u001b[0m     (rin, win, xin) \u001b[38;5;241m=\u001b[39m \u001b[43mselect\u001b[49m\u001b[38;5;241;43m.\u001b[39;49m\u001b[43mselect\u001b[49m\u001b[43m(\u001b[49m\u001b[43m[\u001b[49m\u001b[38;5;28;43mself\u001b[39;49m\u001b[38;5;241;43m.\u001b[39;49m\u001b[43mfd\u001b[49m\u001b[43m]\u001b[49m\u001b[43m,\u001b[49m\u001b[43m \u001b[49m\u001b[43m[\u001b[49m\u001b[43m]\u001b[49m\u001b[43m,\u001b[49m\u001b[43m \u001b[49m\u001b[43m[\u001b[49m\u001b[43m]\u001b[49m\u001b[43m,\u001b[49m\u001b[43m \u001b[49m\u001b[43mtimeout\u001b[49m\u001b[43m)\u001b[49m\n\u001b[0;32m    339\u001b[0m \u001b[38;5;28;01mexcept\u001b[39;00m select\u001b[38;5;241m.\u001b[39merror:\n\u001b[0;32m    340\u001b[0m     \u001b[38;5;28;01mreturn\u001b[39;00m \u001b[38;5;28;01mFalse\u001b[39;00m\n",
      "\u001b[1;31mKeyboardInterrupt\u001b[0m: "
     ]
    }
   ],
   "source": [
    "from pymavlink import mavutil\n",
    "\n",
    "# Start a connection listening on a UDP port\n",
    "the_connection = mavutil.mavlink_connection('udpin:localhost:14550')\n",
    "\n",
    "# Wait for the first heartbeat\n",
    "#   This sets the system and component ID of remote system for the link\n",
    "the_connection.wait_heartbeat()\n",
    "print(\"Heartbeat from system (system %u component %u)\" %\n",
    "(the_connection.target_system, the_connection.target_component))"
   ]
  },
  {
   "cell_type": "code",
   "execution_count": null,
   "id": "9bd7d5cf",
   "metadata": {},
   "outputs": [],
   "source": []
  }
 ],
 "metadata": {
  "kernelspec": {
   "display_name": "Python 3 (ipykernel)",
   "language": "python",
   "name": "python3"
  },
  "language_info": {
   "codemirror_mode": {
    "name": "ipython",
    "version": 3
   },
   "file_extension": ".py",
   "mimetype": "text/x-python",
   "name": "python",
   "nbconvert_exporter": "python",
   "pygments_lexer": "ipython3",
   "version": "3.9.12"
  }
 },
 "nbformat": 4,
 "nbformat_minor": 5
}
